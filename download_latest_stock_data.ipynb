{
 "cells": [
  {
   "cell_type": "code",
   "execution_count": 11,
   "metadata": {},
   "outputs": [],
   "source": [
    "import secret\n",
    "my_id = secret.id\n",
    "pw = secret.pw\n",
    "\n",
    "base_filepath = 'kabu_plus/'\n",
    "\n",
    "all_stock_data_filepath = 'japan-all-stock-data/daily/'\n",
    "japan_all_stock_prices_2_filepath = 'japan-all-stock-prices-2/daily/'\n",
    "tosho_stock_ohlc_filepath = 'tosho-stock-ohlc/daily/'\n",
    "\n",
    "japan_all_stock_margin_transactions_filepath = 'japan-all-stock-margin-transactions/weekly/'\n",
    "\n",
    "import urllib3\n",
    "http = urllib3.PoolManager()"
   ]
  },
  {
   "cell_type": "code",
   "execution_count": 13,
   "metadata": {},
   "outputs": [],
   "source": [
    "from datetime import datetime"
   ]
  },
  {
   "cell_type": "code",
   "execution_count": 6,
   "metadata": {},
   "outputs": [],
   "source": [
    "url = \"https://csvex.com/kabu.plus/csv/japan-all-stock-prices-2/daily/japan-all-stock-prices-2.csv\"\n",
    "headers = urllib3.util.make_headers(basic_auth=\"%s:%s\" % (my_id, pw) )\n",
    "response = http.request(\"GET\", url, headers=headers)\n",
    "f = open(base_filepath+japan_all_stock_prices_2_filepath+\"japan-all-stock-prices-2_\"+datetime.now().strftime(\"%Y%m%d\")+\".csv\", \"wb\")\n",
    "f.write(response.data)\n",
    "f.close()"
   ]
  },
  {
   "cell_type": "code",
   "execution_count": 7,
   "metadata": {},
   "outputs": [],
   "source": [
    "def download_stock_csv(filepath, filename_prefix):\n",
    "    url = \"https://csvex.com/kabu.plus/csv/\"+filepath+filename_prefix+\".csv\"\n",
    "    headers = urllib3.util.make_headers(basic_auth=\"%s:%s\" % (my_id, pw) )\n",
    "    response = http.request(\"GET\", url, headers=headers)\n",
    "    f = open(base_filepath+filepath+filename_prefix+\"_\"+datetime.now().strftime(\"%Y%m%d\")+\".csv\", \"wb\")\n",
    "    f.write(response.data)\n",
    "    f.close()"
   ]
  },
  {
   "cell_type": "code",
   "execution_count": 8,
   "metadata": {},
   "outputs": [],
   "source": [
    "download_stock_csv(all_stock_data_filepath, \"japan-all-stock-data\")"
   ]
  },
  {
   "cell_type": "code",
   "execution_count": 9,
   "metadata": {},
   "outputs": [],
   "source": [
    "download_stock_csv(tosho_stock_ohlc_filepath, \"tosho-stock-ohlc\")"
   ]
  },
  {
   "cell_type": "code",
   "execution_count": 10,
   "metadata": {},
   "outputs": [],
   "source": [
    "download_stock_csv(japan_all_stock_margin_transactions_filepath, \"japan-all-stock-margin-transactions\")"
   ]
  },
  {
   "cell_type": "code",
   "execution_count": null,
   "metadata": {},
   "outputs": [],
   "source": []
  }
 ],
 "metadata": {
  "kernelspec": {
   "display_name": "Python 3",
   "language": "python",
   "name": "python3"
  },
  "language_info": {
   "codemirror_mode": {
    "name": "ipython",
    "version": 3
   },
   "file_extension": ".py",
   "mimetype": "text/x-python",
   "name": "python",
   "nbconvert_exporter": "python",
   "pygments_lexer": "ipython3",
   "version": "3.7.4"
  }
 },
 "nbformat": 4,
 "nbformat_minor": 4
}
